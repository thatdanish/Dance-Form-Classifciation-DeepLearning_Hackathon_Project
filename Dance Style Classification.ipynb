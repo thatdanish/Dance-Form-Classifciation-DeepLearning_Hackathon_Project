{
 "cells": [
  {
   "cell_type": "code",
   "execution_count": 1,
   "metadata": {},
   "outputs": [
    {
     "name": "stderr",
     "output_type": "stream",
     "text": [
      "Using TensorFlow backend.\n"
     ]
    }
   ],
   "source": [
    "import tensorflow\n",
    "import keras\n",
    "import os"
   ]
  },
  {
   "cell_type": "code",
   "execution_count": 2,
   "metadata": {},
   "outputs": [],
   "source": [
    "import pandas as pd\n",
    "import numpy as np\n",
    "import matplotlib.pyplot as plt\n",
    "import seaborn as sns\n",
    "from tqdm import tqdm\n",
    "import cv2"
   ]
  },
  {
   "cell_type": "markdown",
   "metadata": {},
   "source": [
    "## Data Preparation :-"
   ]
  },
  {
   "cell_type": "code",
   "execution_count": 3,
   "metadata": {},
   "outputs": [],
   "source": [
    "df_train = pd.read_csv(\"dataset/train.csv\")"
   ]
  },
  {
   "cell_type": "code",
   "execution_count": 4,
   "metadata": {},
   "outputs": [],
   "source": [
    "df_test = pd.read_csv(\"dataset/test.csv\")"
   ]
  },
  {
   "cell_type": "code",
   "execution_count": 5,
   "metadata": {},
   "outputs": [],
   "source": [
    "train_dir = os.path.join('./dataset'+'/train/')\n",
    "test_dir = os.path.join('./dataset'+'/test/')"
   ]
  },
  {
   "cell_type": "code",
   "execution_count": 6,
   "metadata": {},
   "outputs": [],
   "source": [
    "train_filename = list(os.listdir(train_dir))\n",
    "test_filename = list(os.listdir(test_dir))"
   ]
  },
  {
   "cell_type": "code",
   "execution_count": 7,
   "metadata": {},
   "outputs": [
    {
     "name": "stdout",
     "output_type": "stream",
     "text": [
      "['1.jpg', '10.jpg', '100.jpg', '101.jpg', '102.jpg', '103.jpg', '104.jpg', '105.jpg', '106.jpg']\n",
      "['108.jpg', '11.jpg', '110.jpg', '112.jpg', '114.jpg', '119.jpg', '125.jpg', '128.jpg', '129.jpg']\n"
     ]
    }
   ],
   "source": [
    "print(train_filename[:9])\n",
    "print(test_filename[:9])"
   ]
  },
  {
   "cell_type": "markdown",
   "metadata": {},
   "source": [
    "## Preparing Train Data Images and Target Classes :-"
   ]
  },
  {
   "cell_type": "code",
   "execution_count": 8,
   "metadata": {},
   "outputs": [],
   "source": [
    "def train_data_prep(list_of_images,df_train,train_dir):\n",
    "    training_images = []\n",
    "    training_lables = []\n",
    "    \n",
    "    for image in tqdm(list_of_images):\n",
    "        img = cv2.imread(train_dir+image)\n",
    "        img = cv2.resize(img,(224,224),interpolation=cv2.INTER_CUBIC)\n",
    "       # img = img.reshape(1,128,128,3) #no need to reshape \n",
    "        training_images.append(img)\n",
    "        \n",
    "        if image in list(df_train[\"Image\"]):\n",
    "            training_lables.append(df_train.loc[df_train['Image']==image,'target'].values[0])\n",
    "            \n",
    "    return training_images,training_lables"
   ]
  },
  {
   "cell_type": "code",
   "execution_count": 9,
   "metadata": {},
   "outputs": [
    {
     "name": "stderr",
     "output_type": "stream",
     "text": [
      "100%|████████████████████████████████████████████████████████████████████████████████| 364/364 [00:04<00:00, 81.10it/s]\n"
     ]
    }
   ],
   "source": [
    "training_data,training_lables = train_data_prep(train_filename,df_train,train_dir)"
   ]
  },
  {
   "cell_type": "markdown",
   "metadata": {},
   "source": [
    "## Preparing Test Data Image :-"
   ]
  },
  {
   "cell_type": "code",
   "execution_count": 10,
   "metadata": {},
   "outputs": [],
   "source": [
    "def test_data_prep(list_of_images,test_dir):\n",
    "    test_images = []\n",
    "    \n",
    "    for image in tqdm(list_of_images):\n",
    "        img = cv2.imread(test_dir+image)\n",
    "        img = cv2.resize(img,(224,224),interpolation=cv2.INTER_CUBIC)\n",
    "       # img = img.reshape(1,128,128,3)\n",
    "        test_images.append(img)\n",
    "        \n",
    "    return test_images"
   ]
  },
  {
   "cell_type": "code",
   "execution_count": 11,
   "metadata": {},
   "outputs": [
    {
     "name": "stderr",
     "output_type": "stream",
     "text": [
      "100%|████████████████████████████████████████████████████████████████████████████████| 156/156 [00:01<00:00, 80.47it/s]\n"
     ]
    }
   ],
   "source": [
    "test_data = test_data_prep(test_filename,test_dir)"
   ]
  },
  {
   "cell_type": "markdown",
   "metadata": {},
   "source": [
    "## Label Encoding and Train / Test Spliting :-"
   ]
  },
  {
   "cell_type": "code",
   "execution_count": 12,
   "metadata": {},
   "outputs": [],
   "source": [
    "from sklearn.preprocessing import LabelEncoder"
   ]
  },
  {
   "cell_type": "code",
   "execution_count": 13,
   "metadata": {},
   "outputs": [],
   "source": [
    "le = LabelEncoder()\n",
    "\n",
    "training_labels = le.fit_transform(training_lables)"
   ]
  },
  {
   "cell_type": "code",
   "execution_count": 14,
   "metadata": {},
   "outputs": [],
   "source": [
    "from sklearn.model_selection import train_test_split"
   ]
  },
  {
   "cell_type": "code",
   "execution_count": 15,
   "metadata": {},
   "outputs": [],
   "source": [
    "x_train,x_test,y_train,y_test = train_test_split(training_data,training_labels,test_size=0.33,random_state=42,stratify=training_lables)"
   ]
  },
  {
   "cell_type": "code",
   "execution_count": 16,
   "metadata": {},
   "outputs": [],
   "source": [
    "#df_train['target'].plot(kind='hist',figsize=(10,10))"
   ]
  },
  {
   "cell_type": "markdown",
   "metadata": {},
   "source": [
    "## Data Augmentation &\n",
    "### Converting Images Data to a Numpy Array :-"
   ]
  },
  {
   "cell_type": "code",
   "execution_count": 17,
   "metadata": {},
   "outputs": [],
   "source": [
    "from keras.preprocessing.image import ImageDataGenerator\n",
    "from keras.utils import to_categorical"
   ]
  },
  {
   "cell_type": "code",
   "execution_count": 18,
   "metadata": {},
   "outputs": [],
   "source": [
    "train_datagen = ImageDataGenerator(rescale=1./255,\n",
    "                                   featurewise_center=False,  # set input mean to 0 over the dataset\n",
    "                                   samplewise_center=False,  # set each sample mean to 0\n",
    "                                   featurewise_std_normalization=False,  # divide inputs by std of the dataset\n",
    "                                   samplewise_std_normalization=False,# divide each input by its std\n",
    "                                   zca_whitening=False,  # apply ZCA whitening\n",
    "                                   rotation_range=20,  # randomly rotate images in the range (degrees, 0 to 180)\n",
    "                                   zoom_range = 0.3, # Randomly zoom image \n",
    "                                   width_shift_range=0.2,  # randomly shift images horizontally (fraction of total width)\n",
    "                                   height_shift_range=0.2,  # randomly shift images vertically (fraction of total height)\n",
    "                                   horizontal_flip=True,  # randomly flip images\n",
    "                                   vertical_flip=False,\n",
    "                                  # width_shift_range = [-200,200],\n",
    "                                   brightness_range = [0.2,1],\n",
    "                                   fill_mode = 'nearest'\n",
    "                                  )\n",
    "\n",
    "test_datagen = ImageDataGenerator(rescale=1./255)\n",
    "\n",
    "train_datagen.fit(x_train)\n",
    "test_datagen.fit(x_test)\n",
    "test_datagen.fit(test_data)\n",
    "\n",
    "x_train = np.array(x_train)\n",
    "test_data = np.array(test_data)\n",
    "x_test = np.array(x_test)\n",
    "\n",
    "#x_train = preprocess_input(x_train)\n",
    "#test_data = preprocess_input(test_data)\n",
    "#x_test = preprocess_input(x_test)\n",
    "\n",
    "\n",
    "train_set = train_datagen.flow(x_train,\n",
    "                               to_categorical(y_train,8),\n",
    "                               batch_size=10)\n",
    "                               \n",
    "test_set = test_datagen.flow(x_test,\n",
    "                            to_categorical(y_test,8),\n",
    "                            batch_size=2)"
   ]
  },
  {
   "cell_type": "markdown",
   "metadata": {},
   "source": [
    "###  Data Augmentation with flow_form_dataframe() approach :-"
   ]
  },
  {
   "cell_type": "code",
   "execution_count": null,
   "metadata": {},
   "outputs": [],
   "source": [
    "'''\n",
    "train_set = df_gen.flow_from_dataframe(dataframe=df_train,\n",
    "                                      directory=\"./dataset/train\",\n",
    "                                      x_col='Image',\n",
    "                                      y_col='target',\n",
    "                                      batch_size=10, \n",
    "                                      class_mode='categorical',\n",
    "                                      shuffle=True,\n",
    "                                      subset='training',\n",
    "                                     #has_ext=True,\n",
    "                                      target_size=(128,128))\n",
    "\n",
    "test_set = df_gen.flow_from_dataframe(dataframe=df_train,\n",
    "                                      directory=\"./dataset/train\",\n",
    "                                      x_col='Image',\n",
    "                                      y_col='target',\n",
    "                                      batch_size=2,\n",
    "                                      shuffle=False,\n",
    "                                      class_mode='categorical',\n",
    "                                      subset='validation',\n",
    "                                      #has_ext=True,\n",
    "                                      target_size=(128,128))\n",
    "'''"
   ]
  },
  {
   "cell_type": "code",
   "execution_count": 107,
   "metadata": {},
   "outputs": [],
   "source": [
    "from keras.models import Sequential,Model\n",
    "from keras.layers import Dense,Conv2D,Flatten,Dropout,MaxPooling2D,BatchNormalization,GlobalMaxPooling2D,GlobalAveragePooling2D\n",
    "from keras.callbacks import ModelCheckpoint,EarlyStopping,ReduceLROnPlateau\n",
    "from livelossplot import PlotLossesKeras\n",
    "from keras.optimizers import RMSprop, Adam,SGD\n",
    "from keras.applications import Xception,ResNet50V2,InceptionV3,MobileNetV2,ResNet50,InceptionResNetV2,VGG16\n",
    "#from keras.applications.resnet50 import preprocess_input"
   ]
  },
  {
   "cell_type": "markdown",
   "metadata": {},
   "source": [
    "## Preparing Pre Trained Model For Transfer Learning :-"
   ]
  },
  {
   "cell_type": "code",
   "execution_count": 108,
   "metadata": {
    "scrolled": true
   },
   "outputs": [
    {
     "name": "stdout",
     "output_type": "stream",
     "text": [
      "Model: \"vgg16\"\n",
      "_________________________________________________________________\n",
      "Layer (type)                 Output Shape              Param #   \n",
      "=================================================================\n",
      "input_10 (InputLayer)        (None, 224, 224, 3)       0         \n",
      "_________________________________________________________________\n",
      "block1_conv1 (Conv2D)        (None, 224, 224, 64)      1792      \n",
      "_________________________________________________________________\n",
      "block1_conv2 (Conv2D)        (None, 224, 224, 64)      36928     \n",
      "_________________________________________________________________\n",
      "block1_pool (MaxPooling2D)   (None, 112, 112, 64)      0         \n",
      "_________________________________________________________________\n",
      "block2_conv1 (Conv2D)        (None, 112, 112, 128)     73856     \n",
      "_________________________________________________________________\n",
      "block2_conv2 (Conv2D)        (None, 112, 112, 128)     147584    \n",
      "_________________________________________________________________\n",
      "block2_pool (MaxPooling2D)   (None, 56, 56, 128)       0         \n",
      "_________________________________________________________________\n",
      "block3_conv1 (Conv2D)        (None, 56, 56, 256)       295168    \n",
      "_________________________________________________________________\n",
      "block3_conv2 (Conv2D)        (None, 56, 56, 256)       590080    \n",
      "_________________________________________________________________\n",
      "block3_conv3 (Conv2D)        (None, 56, 56, 256)       590080    \n",
      "_________________________________________________________________\n",
      "block3_pool (MaxPooling2D)   (None, 28, 28, 256)       0         \n",
      "_________________________________________________________________\n",
      "block4_conv1 (Conv2D)        (None, 28, 28, 512)       1180160   \n",
      "_________________________________________________________________\n",
      "block4_conv2 (Conv2D)        (None, 28, 28, 512)       2359808   \n",
      "_________________________________________________________________\n",
      "block4_conv3 (Conv2D)        (None, 28, 28, 512)       2359808   \n",
      "_________________________________________________________________\n",
      "block4_pool (MaxPooling2D)   (None, 14, 14, 512)       0         \n",
      "_________________________________________________________________\n",
      "block5_conv1 (Conv2D)        (None, 14, 14, 512)       2359808   \n",
      "_________________________________________________________________\n",
      "block5_conv2 (Conv2D)        (None, 14, 14, 512)       2359808   \n",
      "_________________________________________________________________\n",
      "block5_conv3 (Conv2D)        (None, 14, 14, 512)       2359808   \n",
      "_________________________________________________________________\n",
      "block5_pool (MaxPooling2D)   (None, 7, 7, 512)         0         \n",
      "=================================================================\n",
      "Total params: 14,714,688\n",
      "Trainable params: 0\n",
      "Non-trainable params: 14,714,688\n",
      "_________________________________________________________________\n"
     ]
    }
   ],
   "source": [
    "\n",
    "model_tr = VGG16(include_top=False,\n",
    "                       pooling=None,\n",
    "                       weights='imagenet',\n",
    "                       #input_tensor=None,\n",
    "                       input_shape=(224,224,3))\n",
    "model_tr.trainable = False\n",
    "#for layer in model_tr.layers[:-4]:\n",
    " #   layer.trainable=False\n",
    "    \n",
    "model_tr.summary()\n"
   ]
  },
  {
   "cell_type": "code",
   "execution_count": 99,
   "metadata": {},
   "outputs": [],
   "source": [
    "#len(list(model_tr.layers))"
   ]
  },
  {
   "cell_type": "markdown",
   "metadata": {},
   "source": [
    "## Sequential Model Approach (Transfer Learning) :-"
   ]
  },
  {
   "cell_type": "code",
   "execution_count": 109,
   "metadata": {},
   "outputs": [
    {
     "name": "stdout",
     "output_type": "stream",
     "text": [
      "Model: \"sequential_8\"\n",
      "_________________________________________________________________\n",
      "Layer (type)                 Output Shape              Param #   \n",
      "=================================================================\n",
      "vgg16 (Model)                (None, 7, 7, 512)         14714688  \n",
      "_________________________________________________________________\n",
      "flatten_11 (Flatten)         (None, 25088)             0         \n",
      "_________________________________________________________________\n",
      "dropout_9 (Dropout)          (None, 25088)             0         \n",
      "_________________________________________________________________\n",
      "dropout_10 (Dropout)         (None, 25088)             0         \n",
      "_________________________________________________________________\n",
      "dense_12 (Dense)             (None, 8)                 200712    \n",
      "=================================================================\n",
      "Total params: 14,915,400\n",
      "Trainable params: 200,712\n",
      "Non-trainable params: 14,714,688\n",
      "_________________________________________________________________\n"
     ]
    }
   ],
   "source": [
    "\n",
    "def create_model():\n",
    "    model = Sequential()\n",
    "    model.add(model_tr)\n",
    "    model.add(Flatten())\n",
    "    model.add(Dropout(0.2))\n",
    "    #model.add(BatchNormalization())\n",
    "    #model.add(Dense(64,activation='relu'))\n",
    "    #model.add(Dropout(0.35))\n",
    "    #model.add(BatchNormalization())\n",
    "    #model.add(Dense(512,activation='relu'))\n",
    "    #model.add(Dropout(0.35))\n",
    "    #model.add(BatchNormalization())\n",
    "    #model.add(Dense(128,activation='relu'))\n",
    "    #model.add(Dropout(0.35))\n",
    "    #model.add(BatchNormalization())\n",
    "    #model.add(Dense(32,activation='relu'))\n",
    "    model.add(Dropout(0.35))\n",
    "  #  model.add(BatchNormalization())\n",
    "    model.add(Dense(8,activation='softmax'))\n",
    "    \n",
    "    #model.layers[0].trainable = False\n",
    "    opt = SGD(lr=0.0005,momentum=0.9)\n",
    "    model.compile(loss='categorical_crossentropy',metrics=['accuracy'],optimizer='adam')\n",
    "    \n",
    "    return model\n",
    "\n",
    "model_tl = create_model()\n",
    "model_tl.summary()\n"
   ]
  },
  {
   "cell_type": "markdown",
   "metadata": {},
   "source": [
    "## Functional API Approch (Transfer Learning) :-"
   ]
  },
  {
   "cell_type": "code",
   "execution_count": null,
   "metadata": {},
   "outputs": [],
   "source": [
    "'''\n",
    "x = model_tr.output\n",
    "x = Flatten()(x)\n",
    "#x = Dropout(0.4)(x)\n",
    "x = BatchNormalization()(x)\n",
    "#x = Dense(512,activation='relu',kernel_initializer='uniform')(x)\n",
    "#x = Dropout(0.25)(x)\n",
    "#x = BatchNormalization()(x)\n",
    "#x = Dense(128,activation='relu')(x)\n",
    "out = Dense(8,activation='softmax')(x)\n",
    "\n",
    "model_fapi = Model(inputs=model_tr.input,outputs=out)\n",
    "\n",
    "\n",
    "    \n",
    "opt = SGD(lr=1e-3,momentum=0.9,decay=1e-6)    \n",
    "model_fapi.compile(optimizer = opt,loss='categorical_crossentropy',metrics=['accuracy'])\n",
    "#model_fapi.summary()\n",
    "'''"
   ]
  },
  {
   "cell_type": "markdown",
   "metadata": {},
   "source": [
    "## CNN Model From Scratch (Sequential Model) :-"
   ]
  },
  {
   "cell_type": "code",
   "execution_count": null,
   "metadata": {},
   "outputs": [],
   "source": [
    "'''\n",
    "\n",
    "model_sc = Sequential()\n",
    "\n",
    "# Convoultion Layer 1\n",
    "model_sc.add(Conv2D(16,(3,3),input_shape=(224,224,3),activation='relu'))\n",
    "model_sc.add(BatchNormalization())\n",
    "model_sc.add(MaxPooling2D(pool_size=(2,2)))\n",
    "model_sc.add(Dropout(0.5))\n",
    "\n",
    "# Convoultion Layer 2\n",
    "model_sc.add(Conv2D(32,(3,3),activation='relu'))\n",
    "model_sc.add(BatchNormalization())\n",
    "model_sc.add(MaxPooling2D(pool_size=(2,2)))\n",
    "model_sc.add(Dropout(0.5))\n",
    "\n",
    "\n",
    "# Convoultion Layer 3\n",
    "model_sc.add(Conv2D(32,(3,3),activation='relu'))\n",
    "#model_sc.add(Conv2D(12,(3,3),activation='relu'))\n",
    "model_sc.add(BatchNormalization())\n",
    "model_sc.add(MaxPooling2D(pool_size=(2,2)))\n",
    "model_sc.add(Dropout(0.5))\n",
    "\n",
    "# Convoultion Layer 4\n",
    "model_sc.add(Conv2D(64,(3,3),activation='relu'))\n",
    "model_sc.add(BatchNormalization())\n",
    "model_sc.add(MaxPooling2D(pool_size=(2,2)))\n",
    "model_sc.add(Dropout(0.5))\n",
    "\n",
    "model_sc.add(Flatten())\n",
    "\n",
    "model_sc.add(Dense(512,activation='relu'))\n",
    "model_sc.add(BatchNormalization())\n",
    "model_sc.add(Dropout(0.4))\n",
    "model_sc.add(Dense(256,activation='relu'))\n",
    "model_sc.add(BatchNormalization())\n",
    "model_sc.add(Dropout(0.4))\n",
    "model_sc.add(Dense(128,activation='relu'))\n",
    "model_sc.add(BatchNormalization())\n",
    "model_sc.add(Dropout(0.4))\n",
    "model_sc.add(Dense(32,activation='relu'))\n",
    "model_sc.add(Dense(8,activation='softmax'))\n",
    "\n",
    "model_sc.compile(optimizer='adam',loss='categorical_crossentropy',metrics=['accuracy'])\n",
    "model_sc.summary()\n",
    "\n",
    "\n",
    "'''"
   ]
  },
  {
   "cell_type": "code",
   "execution_count": 110,
   "metadata": {},
   "outputs": [],
   "source": [
    "callback = [#ModelCheckpoint('tmp_weights/epoch__{epoch:02d}__acc__{val_accuracy:0.4f}',\n",
    "                   #        save_weights_only=True,\n",
    "                    #       save_best_only=True,\n",
    "                     #      monitor='val_accuracy'),\n",
    "            EarlyStopping(patience=8,\n",
    "                         monitor='val_accuracy'),\n",
    "            PlotLossesKeras(),\n",
    "            ReduceLROnPlateau(\n",
    "                              monitor='loss',\n",
    "                              factor=0.1,\n",
    "                              patience=2,\n",
    "                              cooldown=2,\n",
    "                              min_lr=0.01,\n",
    "                              )]"
   ]
  },
  {
   "cell_type": "markdown",
   "metadata": {},
   "source": [
    "## Fitting The Model :-"
   ]
  },
  {
   "cell_type": "code",
   "execution_count": 111,
   "metadata": {},
   "outputs": [
    {
     "data": {
      "image/png": "[encoded data removed]",
      "text/plain": [
       "<Figure size 864x864 with 3 Axes>"
      ]
     },
     "metadata": {
      "needs_background": "light"
     },
     "output_type": "display_data"
    },
    {
     "name": "stdout",
     "output_type": "stream",
     "text": [
      "accuracy\n",
      "\tvalidation       \t (min:    0.325, max:    0.773, cur:    0.706)\n",
      "\ttraining         \t (min:    0.137, max:    0.762, cur:    0.695)\n",
      "Loss\n",
      "\tvalidation       \t (min:    0.002, max:    3.942, cur:    3.725)\n",
      "\ttraining         \t (min:    0.655, max:    2.952, cur:    0.917)\n",
      "lr\n",
      "\tlr               \t (min:    0.001, max:    0.001, cur:    0.001)\n"
     ]
    },
    {
     "data": {
      "text/plain": [
       "<keras.callbacks.callbacks.History at 0x226313940c8>"
      ]
     },
     "execution_count": 111,
     "metadata": {},
     "output_type": "execute_result"
    }
   ],
   "source": [
    "model_tl.fit_generator(train_set,\n",
    "                   validation_data=test_set,\n",
    "                   steps_per_epoch=train_set.n//10,\n",
    "                   validation_steps=test_set.n//2,\n",
    "                   epochs=35,\n",
    "                   callbacks=callback)"
   ]
  },
  {
   "cell_type": "markdown",
   "metadata": {},
   "source": [
    "## Calculating Classification Report :-"
   ]
  },
  {
   "cell_type": "code",
   "execution_count": 112,
   "metadata": {},
   "outputs": [],
   "source": [
    "from sklearn.metrics import classification_report"
   ]
  },
  {
   "cell_type": "code",
   "execution_count": 113,
   "metadata": {},
   "outputs": [
    {
     "name": "stdout",
     "output_type": "stream",
     "text": [
      "              precision    recall  f1-score   support\n",
      "\n",
      "           0       0.52      0.81      0.63        16\n",
      "           1       1.00      0.47      0.64        15\n",
      "           2       0.45      0.94      0.61        16\n",
      "           3       0.44      0.27      0.33        15\n",
      "           4       1.00      0.08      0.15        12\n",
      "           5       1.00      0.81      0.90        16\n",
      "           6       0.45      0.88      0.60        16\n",
      "           7       1.00      0.13      0.24        15\n",
      "\n",
      "    accuracy                           0.57       121\n",
      "   macro avg       0.73      0.55      0.51       121\n",
      "weighted avg       0.72      0.57      0.53       121\n",
      "\n"
     ]
    }
   ],
   "source": [
    "y_pred_on_test = model_tl.predict(x_test)\n",
    "y_pred_on_test = [np.argmax(i) for i in y_pred_on_test]\n",
    "\n",
    "print(classification_report(y_test,y_pred_on_test))"
   ]
  },
  {
   "cell_type": "code",
   "execution_count": null,
   "metadata": {},
   "outputs": [],
   "source": [
    "#df_val = pd.read_csv(\"dataset/test.csv\")"
   ]
  },
  {
   "cell_type": "code",
   "execution_count": null,
   "metadata": {},
   "outputs": [],
   "source": [
    "\n",
    "'''\n",
    "import cv2\n",
    "import os\n",
    "import csv\n",
    "\n",
    "def load_images_from_folder(folder):\n",
    "    images = []\n",
    "    for filename in os.listdir(folder):\n",
    "        img = cv2.imread(os.path.join(folder,filename))\n",
    "        img = cv2.resize(img,(128,128))\n",
    "        img = img.reshape(1,128,128,3)\n",
    "        if img is not None:\n",
    "            images.append(img)\n",
    "    return images\n",
    "    \n",
    "'''"
   ]
  },
  {
   "cell_type": "code",
   "execution_count": 35,
   "metadata": {},
   "outputs": [],
   "source": [
    "#test_image = load_images_from_folder('dataset/test')"
   ]
  },
  {
   "cell_type": "code",
   "execution_count": null,
   "metadata": {},
   "outputs": [],
   "source": [
    "'''\n",
    "prediction = []\n",
    "for i in tqdm(test_image):\n",
    "    y_pred = model.predict_classes(i)\n",
    "    prediction.append(y_pred)\n",
    "'''    "
   ]
  },
  {
   "cell_type": "code",
   "execution_count": null,
   "metadata": {},
   "outputs": [],
   "source": [
    "'''\n",
    "prediction = list(prediction)\n",
    "for i in tqdm(range(len(prediction))):\n",
    "    if prediction[i] == [0]:\n",
    "        prediction[i] = ['bharatanatyam']        \n",
    "    if prediction[i] == [1]:\n",
    "        prediction[i] = ['kathak']\n",
    "    if prediction[i] == [2]:\n",
    "        prediction[i] = ['kathakali']\n",
    "    if prediction[i] == [3]:\n",
    "        prediction[i] = ['kuchipudi']\n",
    "    if prediction[i] == [4]:\n",
    "        prediction[i] = ['manipuri']\n",
    "    if prediction[i] == [5]:\n",
    "        prediction[i] = ['mohiniyattam']\n",
    "    if prediction[i] == [6]:\n",
    "        prediction[i] = ['odissi']\n",
    "    if prediction[i] == [7]:\n",
    "        prediction[i] = ['sattriya']\n",
    "'''        "
   ]
  },
  {
   "cell_type": "code",
   "execution_count": 77,
   "metadata": {},
   "outputs": [],
   "source": [
    "#prediction = list(map(list,prediction))"
   ]
  },
  {
   "cell_type": "markdown",
   "metadata": {},
   "source": [
    "## Predicting on Test Data :-"
   ]
  },
  {
   "cell_type": "code",
   "execution_count": 114,
   "metadata": {},
   "outputs": [],
   "source": [
    "prediction = model_tl.predict(test_data)\n",
    "prediction = [np.argmax(i) for i in prediction]\n",
    "prediction = le.inverse_transform(prediction)"
   ]
  },
  {
   "cell_type": "markdown",
   "metadata": {},
   "source": [
    "## Writing Predictions and Image Name to .csv file :-"
   ]
  },
  {
   "cell_type": "code",
   "execution_count": 116,
   "metadata": {},
   "outputs": [],
   "source": [
    "submission = pd.DataFrame({\"Image\":os.listdir('dataset/test/'),'target':prediction})"
   ]
  },
  {
   "cell_type": "code",
   "execution_count": 117,
   "metadata": {},
   "outputs": [],
   "source": [
    "submission.to_csv('result.csv',index=False)"
   ]
  },
  {
   "cell_type": "code",
   "execution_count": 118,
   "metadata": {},
   "outputs": [],
   "source": [
    "import csv"
   ]
  },
  {
   "cell_type": "code",
   "execution_count": null,
   "metadata": {},
   "outputs": [],
   "source": [
    "'''\n",
    "with open(\"Submission.csv\",'w',newline='') as file:\n",
    "    csvwriter = csv.writer(file)\n",
    "    csvwriter.writerow([\"target\"])\n",
    "    for i in tqdm(prediction):\n",
    "        csvwriter.writerow(i)\n",
    "'''"
   ]
  },
  {
   "cell_type": "code",
   "execution_count": null,
   "metadata": {},
   "outputs": [],
   "source": [
    "'''\n",
    "with open(\"Submissions.csv\",'w',newline='') as file:\n",
    "    csvwriter = csv.writer(file)\n",
    "    csvwriter.writerow([\"Image\"])\n",
    "    for i in tqdm(os.listdir(\"dataset/test\")):\n",
    "        csvwriter.writerow([i])\n",
    "'''"
   ]
  },
  {
   "cell_type": "markdown",
   "metadata": {},
   "source": [
    "## Saving Model & Weights :-"
   ]
  },
  {
   "cell_type": "code",
   "execution_count": 120,
   "metadata": {},
   "outputs": [],
   "source": [
    "model_json = model_tl.to_json()\n",
    "\n",
    "with open('model.json','w') as file:\n",
    "    file.write(model_json)"
   ]
  },
  {
   "cell_type": "code",
   "execution_count": 122,
   "metadata": {},
   "outputs": [],
   "source": [
    "model_tl.save_weights('tmp_weights/weights.h5')"
   ]
  },
  {
   "cell_type": "code",
   "execution_count": null,
   "metadata": {},
   "outputs": [],
   "source": []
  }
 ],
 "metadata": {
  "kernelspec": {
   "display_name": "Python 3",
   "language": "python",
   "name": "python3"
  },
  "language_info": {
   "codemirror_mode": {
    "name": "ipython",
    "version": 3
   },
   "file_extension": ".py",
   "mimetype": "text/x-python",
   "name": "python",
   "nbconvert_exporter": "python",
   "pygments_lexer": "ipython3",
   "version": "3.7.7"
  }
 },
 "nbformat": 4,
 "nbformat_minor": 4
}
